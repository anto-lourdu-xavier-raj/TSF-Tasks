{
  "nbformat": 4,
  "nbformat_minor": 0,
  "metadata": {
    "colab": {
      "name": "Task 2.ipynb",
      "provenance": [],
      "collapsed_sections": []
    },
    "kernelspec": {
      "name": "python3",
      "display_name": "Python 3"
    }
  },
  "cells": [
    {
      "cell_type": "markdown",
      "metadata": {
        "id": "mGb-WHHtq331",
        "colab_type": "text"
      },
      "source": [
        "# **To explore supervised Machine Learning**"
      ]
    },
    {
      "cell_type": "markdown",
      "metadata": {
        "id": "cTR1PI9mrRhw",
        "colab_type": "text"
      },
      "source": [
        "In this regression task we will predict the percentage of\n",
        "marks that a student is expected to score based upon the\n",
        "number of hours they studied.\n",
        "This is a simple linear regression task as it involves just two variables."
      ]
    },
    {
      "cell_type": "markdown",
      "metadata": {
        "id": "hatceubGrlar",
        "colab_type": "text"
      },
      "source": [
        "The question we need to answer here is : \n",
        "\n",
        "\"What will be predicted score if a student study for 9.25 hrs in a\n",
        "day?\""
      ]
    },
    {
      "cell_type": "code",
      "metadata": {
        "id": "KqZnQRfQrdac",
        "colab_type": "code",
        "colab": {}
      },
      "source": [
        "# Importing the libraries\n",
        "import numpy as np\n",
        "import pandas as pd\n",
        "import matplotlib.pyplot as plt\n",
        "%matplotlib inline"
      ],
      "execution_count": null,
      "outputs": []
    },
    {
      "cell_type": "code",
      "metadata": {
        "id": "Q5iZNjqxr3VI",
        "colab_type": "code",
        "colab": {}
      },
      "source": [
        "# Reading the data\n",
        "url = \"http://bit.ly/w-data\"\n",
        "dataset = pd.read_csv(url)\n",
        "dataset.head()"
      ],
      "execution_count": null,
      "outputs": []
    },
    {
      "cell_type": "markdown",
      "metadata": {
        "id": "3LdMn15uO9Yb",
        "colab_type": "text"
      },
      "source": [
        "Let's plot the data visually to see the relationship between the data:"
      ]
    },
    {
      "cell_type": "code",
      "metadata": {
        "id": "c8W8d0oksJbB",
        "colab_type": "code",
        "colab": {
          "base_uri": "https://localhost:8080/",
          "height": 312
        },
        "outputId": "2b4a2fe2-3677-48c7-a1c9-1bd1efd6a3ff"
      },
      "source": [
        "# Plotting distribution of scores with respect to hourse studies\n",
        "dataset.plot(x=\"Hours\", y=\"Scores\", style=\"o\")\n",
        "plt.title(\"Hours vs Scores\")\n",
        "plt.xlabel(\"Hours studied\")\n",
        "plt.ylabel(\"Marks Obtained\")\n",
        "plt.show"
      ],
      "execution_count": null,
      "outputs": [
        {
          "output_type": "execute_result",
          "data": {
            "text/plain": [
              "<function matplotlib.pyplot.show>"
            ]
          },
          "metadata": {
            "tags": []
          },
          "execution_count": 13
        },
        {
          "output_type": "display_data",
          "data": {
            "image/png": "[encoded data removed]",
            "text/plain": [
              "<Figure size 432x288 with 1 Axes>"
            ]
          },
          "metadata": {
            "tags": [],
            "needs_background": "light"
          }
        }
      ]
    },
    {
      "cell_type": "markdown",
      "metadata": {
        "id": "LbTY4dE4XVET",
        "colab_type": "text"
      },
      "source": [
        "**From the above graph, we can see that there is a positive linear relationship between the marks obtained and hours studied.**"
      ]
    },
    {
      "cell_type": "markdown",
      "metadata": {
        "id": "XqC3C97qXxtw",
        "colab_type": "text"
      },
      "source": [
        "## **Preparing the data**"
      ]
    },
    {
      "cell_type": "code",
      "metadata": {
        "id": "KfHQOg0AW2Py",
        "colab_type": "code",
        "colab": {}
      },
      "source": [
        "# Preparing the features variables and target variables\n",
        "x_data = dataset.iloc[:, :-1].values  \n",
        "y_data = dataset.iloc[:, 1].values "
      ],
      "execution_count": null,
      "outputs": []
    },
    {
      "cell_type": "code",
      "metadata": {
        "id": "WuaD-ra6YWr9",
        "colab_type": "code",
        "colab": {}
      },
      "source": [
        "# splitting the data into training and testing data\n",
        "from sklearn.model_selection import train_test_split\n",
        "x_train, x_test, y_train, y_test = train_test_split(x_data, y_data, test_size=0.2, random_state=0)"
      ],
      "execution_count": null,
      "outputs": []
    },
    {
      "cell_type": "markdown",
      "metadata": {
        "id": "1e55dObbc-7v",
        "colab_type": "text"
      },
      "source": [
        "## **Training the dataset**"
      ]
    },
    {
      "cell_type": "code",
      "metadata": {
        "id": "MCyA2Jn4ctXG",
        "colab_type": "code",
        "colab": {
          "base_uri": "https://localhost:8080/",
          "height": 34
        },
        "outputId": "9df5d00f-26cc-4da9-abaa-cff62458ef99"
      },
      "source": [
        "# Training the data with simple linear regression\n",
        "from sklearn.linear_model import LinearRegression\n",
        "lm = LinearRegression()\n",
        "lm.fit(x_train, y_train)"
      ],
      "execution_count": null,
      "outputs": [
        {
          "output_type": "execute_result",
          "data": {
            "text/plain": [
              "LinearRegression(copy_X=True, fit_intercept=True, n_jobs=None, normalize=False)"
            ]
          },
          "metadata": {
            "tags": []
          },
          "execution_count": 33
        }
      ]
    },
    {
      "cell_type": "code",
      "metadata": {
        "id": "Plo1YthJgfab",
        "colab_type": "code",
        "colab": {
          "base_uri": "https://localhost:8080/",
          "height": 265
        },
        "outputId": "6d231485-4eaf-4b1f-b425-e2309ee77eb1"
      },
      "source": [
        "# Plotting the regression line\n",
        "reg_line = lm.intercept_+lm.coef_*x_data\n",
        "\n",
        "# Plotting for the test data\n",
        "plt.scatter(x_data, y_data)\n",
        "plt.plot(x_data, reg_line)\n",
        "plt.show()"
      ],
      "execution_count": null,
      "outputs": [
        {
          "output_type": "display_data",
          "data": {
            "image/png": "[encoded data removed]",
            "text/plain": [
              "<Figure size 432x288 with 1 Axes>"
            ]
          },
          "metadata": {
            "tags": [],
            "needs_background": "light"
          }
        }
      ]
    },
    {
      "cell_type": "markdown",
      "metadata": {
        "id": "YxNXrjLGm9rs",
        "colab_type": "text"
      },
      "source": [
        "## **Obtain a prediction**"
      ]
    },
    {
      "cell_type": "code",
      "metadata": {
        "id": "18elBj9JmQui",
        "colab_type": "code",
        "colab": {
          "base_uri": "https://localhost:8080/",
          "height": 34
        },
        "outputId": "9c80dba8-72b7-4191-9578-9b972339180d"
      },
      "source": [
        "Yhat = lm.predict(x_test)\n",
        "Yhat"
      ],
      "execution_count": null,
      "outputs": [
        {
          "output_type": "execute_result",
          "data": {
            "text/plain": [
              "array([16.88414476, 33.73226078, 75.357018  , 26.79480124, 60.49103328])"
            ]
          },
          "metadata": {
            "tags": []
          },
          "execution_count": 35
        }
      ]
    },
    {
      "cell_type": "code",
      "metadata": {
        "id": "DzsON6ksqbF5",
        "colab_type": "code",
        "colab": {
          "base_uri": "https://localhost:8080/",
          "height": 51
        },
        "outputId": "a1d3c4bd-67d7-4482-92bb-1df858b87f25"
      },
      "source": [
        "# Checking how accurate our model is \n",
        "# for training data\n",
        "train_acc = lm.score(x_train, y_train)\n",
        "# for testing data\n",
        "test_acc = lm.score(x_test, y_test)\n",
        "print(\"Training Accuracy : \", train_acc)\n",
        "print(\"Testing Accuracy : \", test_acc)"
      ],
      "execution_count": null,
      "outputs": [
        {
          "output_type": "stream",
          "text": [
            "Training Accuracy :  0.9515510725211553\n",
            "Testing Accuracy :  0.9454906892105354\n"
          ],
          "name": "stdout"
        }
      ]
    },
    {
      "cell_type": "code",
      "metadata": {
        "id": "W6J1VwFzo9bx",
        "colab_type": "code",
        "colab": {
          "base_uri": "https://localhost:8080/",
          "height": 51
        },
        "outputId": "b8a59eb3-592d-4af9-8245-cb2e9a90a45a"
      },
      "source": [
        "# What will be predicted score if a student study for 9.25 hrs in a day?\n",
        "hours = [[9.25]]\n",
        "Yhat = lm.predict(hours)\n",
        "print('Number of hours the student studied : ', hours)\n",
        "print('The predicted score for the student is : ', Yhat)"
      ],
      "execution_count": 39,
      "outputs": [
        {
          "output_type": "stream",
          "text": [
            "Number of hours the student studied :  [[9.25]]\n",
            "The predicted score for the student is :  [93.69173249]\n"
          ],
          "name": "stdout"
        }
      ]
    }
  ]
}